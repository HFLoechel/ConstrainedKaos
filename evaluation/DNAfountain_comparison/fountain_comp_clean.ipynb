{
 "cells": [
  {
   "cell_type": "code",
   "execution_count": 1,
   "metadata": {},
   "outputs": [],
   "source": [
    "import json\n",
    "import dinopy"
   ]
  },
  {
   "cell_type": "code",
   "execution_count": 11,
   "metadata": {},
   "outputs": [],
   "source": [
    "with open(\"revcomp_interval/t7.fasta-concatenate.json\") as f_, open(\"revcomp_interval/t7.fasta-mCGR.json\") as g_:\n",
    "    conc = json.load(f_)\n",
    "    mcgr = json.load(g_)"
   ]
  },
  {
   "cell_type": "markdown",
   "metadata": {},
   "source": [
    "## Full implementation"
   ]
  },
  {
   "cell_type": "code",
   "execution_count": 12,
   "metadata": {},
   "outputs": [],
   "source": [
    "failed_counter = 0\n",
    "sucess_counter = 0\n",
    "\n",
    "freader = dinopy.FastaReader(\"eval_50_gc/faust.fasta\")\n",
    "for sequence in freader.reads():\n",
    "    flag = 0\n",
    "    dec = sequence.decode()\n",
    "    half = int(len(dec)/2)\n",
    "    pre, post = dec[:half], dec[half:]\n",
    "    if not pre in mcgr['mCGR(row,col)'].keys() or not post in mcgr['mCGR(row,col)'].keys():\n",
    "        failed_counter += 1\n",
    "        #print(\"Is not in allowed sequences\")\n",
    "        flag = 1\n",
    "        #pass\n",
    "    else:\n",
    "        row, col = mcgr['mCGR(row,col)'][pre]\n",
    "        hits_pre = set()\n",
    "        for key in conc[\"prepending(row:col)\"].keys():\n",
    "            if str(row) in conc[\"prepending(row:col)\"][key].keys():\n",
    "                if col in conc[\"prepending(row:col)\"][key][str(row)]:\n",
    "                    hits_pre.update([key])\n",
    "\n",
    "        m_hits = set()\n",
    "        for hit in hits_pre:\n",
    "            if str(hit) in conc[\"motif\"].keys():\n",
    "                m_hits.update(conc[\"motif\"][hit])\n",
    "\n",
    "        row, col = mcgr['mCGR(row,col)'][post]\n",
    "        hits_post = set()\n",
    "        for mhit in m_hits:\n",
    "            if str(row) in conc[\"appending(row:col)\"][mhit].keys() and col in conc[\"appending(row:col)\"][mhit][str(row)]:\n",
    "                #print(\"pre and postfix lead to a forbidden motif\")\n",
    "                failed_counter += 1\n",
    "                flag = 1\n",
    "                break\n",
    "    if not flag:\n",
    "        sucess_counter += 1"
   ]
  },
  {
   "cell_type": "code",
   "execution_count": 13,
   "metadata": {},
   "outputs": [
    {
     "data": {
      "text/plain": [
       "478315"
      ]
     },
     "execution_count": 13,
     "metadata": {},
     "output_type": "execute_result"
    }
   ],
   "source": [
    "sucess_counter"
   ]
  },
  {
   "cell_type": "code",
   "execution_count": 14,
   "metadata": {},
   "outputs": [
    {
     "data": {
      "text/plain": [
       "108325"
      ]
     },
     "execution_count": 14,
     "metadata": {},
     "output_type": "execute_result"
    }
   ],
   "source": [
    "failed_counter"
   ]
  },
  {
   "cell_type": "code",
   "execution_count": 27,
   "metadata": {},
   "outputs": [
    {
     "data": {
      "text/plain": [
       "0.16971055502522842"
      ]
     },
     "execution_count": 27,
     "metadata": {},
     "output_type": "execute_result"
    }
   ],
   "source": [
    "failed_counter/(failed_counter + sucess_counter)"
   ]
  },
  {
   "cell_type": "markdown",
   "metadata": {},
   "source": [
    "## Testing"
   ]
  },
  {
   "cell_type": "code",
   "execution_count": 4,
   "metadata": {},
   "outputs": [
    {
     "name": "stdout",
     "output_type": "stream",
     "text": [
      "jep\n",
      "AT\n",
      "-----\n",
      "pre and postfix lead to a forbidden motif\n"
     ]
    }
   ],
   "source": [
    "dec = \"CGCTATGAATCG\"\n",
    "\n",
    "failed_counter = 0\n",
    "sucess_counter = 0\n",
    "\n",
    "half = int(len(dec)/2)\n",
    "pre, post = dec[:half], dec[half:]\n",
    "if not pre in mcgr['mCGR(row,col)'].keys() or not post in mcgr['mCGR(row,col)'].keys():\n",
    "    failed_counter += 1\n",
    "    print(\"Is not in allowed sequences\")\n",
    "    #pass\n",
    "else:\n",
    "    row, col = mcgr['mCGR(row,col)'][pre]\n",
    "    hits_pre = set()\n",
    "    for key in conc[\"prepending(row:col)\"].keys():\n",
    "        if str(row) in conc[\"prepending(row:col)\"][key].keys():\n",
    "            if col in conc[\"prepending(row:col)\"][key][str(row)]:\n",
    "                print(\"jep\")\n",
    "                print(key)\n",
    "                print(\"-----\")\n",
    "                hits_pre.update([key])\n",
    "                \n",
    "    m_hits = set()\n",
    "    for hit in hits_pre:\n",
    "        if str(hit) in conc[\"motif\"].keys():\n",
    "            m_hits.update(conc[\"motif\"][hit])\n",
    "    \n",
    "    row, col = mcgr['mCGR(row,col)'][post]\n",
    "    hits_post = set()\n",
    "    for mhit in m_hits:\n",
    "        if str(row) in conc[\"appending(row:col)\"][mhit].keys() and col in conc[\"appending(row:col)\"][mhit][str(row)]:\n",
    "            print(\"pre and postfix lead to a forbidden motif\")\n",
    "            failed_counter += 1\n",
    "            break\n",
    "    sucess_counter += 1"
   ]
  }
 ],
 "metadata": {
  "kernelspec": {
   "display_name": "Python 3",
   "language": "python",
   "name": "python3"
  },
  "language_info": {
   "codemirror_mode": {
    "name": "ipython",
    "version": 3
   },
   "file_extension": ".py",
   "mimetype": "text/x-python",
   "name": "python",
   "nbconvert_exporter": "python",
   "pygments_lexer": "ipython3",
   "version": "3.7.7"
  }
 },
 "nbformat": 4,
 "nbformat_minor": 4
}
